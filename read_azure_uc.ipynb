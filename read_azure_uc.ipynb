{
 "cells": [
  {
   "cell_type": "code",
   "execution_count": 13,
   "metadata": {},
   "outputs": [
    {
     "data": {
      "text/plain": [
       "True"
      ]
     },
     "execution_count": 13,
     "metadata": {},
     "output_type": "execute_result"
    }
   ],
   "source": [
    "import os\n",
    "from dotenv import load_dotenv\n",
    "import duckdb\n",
    "\n",
    "# Load environment variables from the .env file\n",
    "load_dotenv()"
   ]
  },
  {
   "cell_type": "code",
   "execution_count": 14,
   "metadata": {},
   "outputs": [],
   "source": [
    "token = os.getenv(\"token\")\n",
    "workspace = os.getenv(\"workspace_url\")\n",
    "adls_conn = os.getenv(\"adls_conn\")"
   ]
  },
  {
   "cell_type": "code",
   "execution_count": 3,
   "metadata": {},
   "outputs": [],
   "source": [
    "conn = duckdb.connect()"
   ]
  },
  {
   "cell_type": "code",
   "execution_count": 12,
   "metadata": {},
   "outputs": [
    {
     "data": {
      "text/plain": [
       "<duckdb.duckdb.DuckDBPyConnection at 0x7f5c187922b0>"
      ]
     },
     "execution_count": 12,
     "metadata": {},
     "output_type": "execute_result"
    }
   ],
   "source": [
    "conn.execute(f\"\"\"\n",
    "INSTALL uc_catalog from core_nightly;\n",
    "INSTALL delta from core;\n",
    "LOAD delta;\n",
    "LOAD uc_catalog;\n",
    "CREATE SECRET (\n",
    "\tTYPE UC,\n",
    "\tTOKEN '${token}',\n",
    "\tENDPOINT '${workspace}'\n",
    ");\n",
    "\"\"\")"
   ]
  },
  {
   "cell_type": "code",
   "execution_count": 15,
   "metadata": {},
   "outputs": [
    {
     "data": {
      "text/plain": [
       "<duckdb.duckdb.DuckDBPyConnection at 0x7f5c187922b0>"
      ]
     },
     "execution_count": 15,
     "metadata": {},
     "output_type": "execute_result"
    }
   ],
   "source": [
    "conn.execute(f\"\"\"\n",
    "INSTALL azure;\n",
    "LOAD azure;\n",
    "CREATE SECRET secret1 (\n",
    "    TYPE AZURE,\n",
    "    CONNECTION_STRING '${adls_conn}'\n",
    ");\n",
    "ATTACH 'dev' AS dev (TYPE UC_CATALOG);\n",
    "\"\"\")"
   ]
  },
  {
   "cell_type": "code",
   "execution_count": 29,
   "metadata": {},
   "outputs": [
    {
     "data": {
      "text/plain": [
       "┌───────────────┬──────────────┬─────────┬─────────┬───────────────────────┬──────────┬─────────┬──────────┐\n",
       "│ database_name │ database_oid │  path   │ comment │         tags          │ internal │  type   │ readonly │\n",
       "│    varchar    │    int64     │ varchar │ varchar │ map(varchar, varchar) │ boolean  │ varchar │ boolean  │\n",
       "├───────────────┼──────────────┼─────────┼─────────┼───────────────────────┼──────────┼─────────┼──────────┤\n",
       "│ dev           │         1838 │ dev     │ NULL    │ {}                    │ false    │ uc      │ false    │\n",
       "│ memory        │         1146 │ NULL    │ NULL    │ {}                    │ false    │ duckdb  │ false    │\n",
       "│ system        │            0 │ NULL    │ NULL    │ {}                    │ true     │ duckdb  │ false    │\n",
       "│ temp          │         1828 │ NULL    │ NULL    │ {}                    │ true     │ duckdb  │ false    │\n",
       "└───────────────┴──────────────┴─────────┴─────────┴───────────────────────┴──────────┴─────────┴──────────┘"
      ]
     },
     "execution_count": 29,
     "metadata": {},
     "output_type": "execute_result"
    }
   ],
   "source": [
    "\n",
    "conn.sql(\"SELECT * FROM duckdb_databases();;\")\n"
   ]
  },
  {
   "cell_type": "code",
   "execution_count": 30,
   "metadata": {},
   "outputs": [
    {
     "ename": "CatalogException",
     "evalue": "Catalog Error: Table with name products does not exist!\nDid you mean \"temp.pg_catalog.pg_proc\"?",
     "output_type": "error",
     "traceback": [
      "\u001b[0;31m---------------------------------------------------------------------------\u001b[0m",
      "\u001b[0;31mCatalogException\u001b[0m                          Traceback (most recent call last)",
      "Cell \u001b[0;32mIn[30], line 1\u001b[0m\n\u001b[0;32m----> 1\u001b[0m \u001b[43mconn\u001b[49m\u001b[38;5;241;43m.\u001b[39;49m\u001b[43msql\u001b[49m\u001b[43m(\u001b[49m\u001b[38;5;124;43m\"\u001b[39;49m\u001b[38;5;124;43mselect * from dev.silver.products;\u001b[39;49m\u001b[38;5;124;43m\"\u001b[39;49m\u001b[43m)\u001b[49m\n",
      "\u001b[0;31mCatalogException\u001b[0m: Catalog Error: Table with name products does not exist!\nDid you mean \"temp.pg_catalog.pg_proc\"?"
     ]
    }
   ],
   "source": [
    "conn.sql(\"select * from dev.silver.products;\")"
   ]
  }
 ],
 "metadata": {
  "kernelspec": {
   "display_name": "Python 3",
   "language": "python",
   "name": "python3"
  },
  "language_info": {
   "codemirror_mode": {
    "name": "ipython",
    "version": 3
   },
   "file_extension": ".py",
   "mimetype": "text/x-python",
   "name": "python",
   "nbconvert_exporter": "python",
   "pygments_lexer": "ipython3",
   "version": "3.12.6"
  }
 },
 "nbformat": 4,
 "nbformat_minor": 2
}
