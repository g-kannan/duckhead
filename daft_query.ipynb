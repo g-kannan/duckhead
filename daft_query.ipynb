{
 "cells": [
  {
   "cell_type": "code",
   "execution_count": 2,
   "metadata": {},
   "outputs": [],
   "source": [
    "import daft\n",
    "import os\n",
    "import re\n",
    "from daft.unity_catalog import UnityCatalog\n",
    "from dotenv import load_dotenv"
   ]
  },
  {
   "cell_type": "code",
   "execution_count": 3,
   "metadata": {},
   "outputs": [],
   "source": [
    "from daft.io import IOConfig,AzureConfig"
   ]
  },
  {
   "cell_type": "code",
   "execution_count": 4,
   "metadata": {},
   "outputs": [
    {
     "data": {
      "text/plain": [
       "True"
      ]
     },
     "execution_count": 4,
     "metadata": {},
     "output_type": "execute_result"
    }
   ],
   "source": [
    "# Load environment variables from the .env file\n",
    "load_dotenv()"
   ]
  },
  {
   "cell_type": "code",
   "execution_count": 5,
   "metadata": {},
   "outputs": [],
   "source": [
    "token = os.getenv(\"token\")\n",
    "workspace = os.getenv(\"workspace_url\")"
   ]
  },
  {
   "cell_type": "code",
   "execution_count": 6,
   "metadata": {},
   "outputs": [],
   "source": [
    "# point Daft to your UC server\n",
    "unity = UnityCatalog(\n",
    "    endpoint=workspace,\n",
    "    token=token,\n",
    ")"
   ]
  },
  {
   "cell_type": "code",
   "execution_count": 7,
   "metadata": {},
   "outputs": [
    {
     "name": "stdout",
     "output_type": "stream",
     "text": [
      "['accuweather_daily_and_hourly_forecasts___u_s__postal_codes_sample', 'dev', 'facteus__inc__facteus_pulse___credit___debit_card_transaction_data', 'main', 'system']\n"
     ]
    }
   ],
   "source": [
    "print(unity.list_catalogs())"
   ]
  },
  {
   "cell_type": "code",
   "execution_count": 8,
   "metadata": {},
   "outputs": [
    {
     "name": "stdout",
     "output_type": "stream",
     "text": [
      "['dev.information_schema', 'dev.silver']\n"
     ]
    }
   ],
   "source": [
    "print(unity.list_schemas(\"dev\"))"
   ]
  },
  {
   "cell_type": "code",
   "execution_count": 9,
   "metadata": {},
   "outputs": [
    {
     "name": "stdout",
     "output_type": "stream",
     "text": [
      "['dev.silver.products']\n"
     ]
    }
   ],
   "source": [
    "print(unity.list_tables(\"dev.silver\"))"
   ]
  },
  {
   "cell_type": "code",
   "execution_count": 10,
   "metadata": {},
   "outputs": [],
   "source": [
    "unity_table_ext = unity.load_table(\"dev.silver.products\")"
   ]
  },
  {
   "cell_type": "code",
   "execution_count": 11,
   "metadata": {},
   "outputs": [],
   "source": [
    "# io_config = IOConfig(azure=AzureConfig(storage_account=\"sadataengci\",access_key=access_key)) ## Using access_key\n",
    "io_config = IOConfig(azure=unity_table_ext.io_config.azure.replace(storage_account='sadataengci'))"
   ]
  },
  {
   "cell_type": "code",
   "execution_count": 13,
   "metadata": {},
   "outputs": [
    {
     "data": {
      "text/html": [
       "<div>\n",
       "<table class=\"dataframe\">\n",
       "<thead><tr><th style=\"text-wrap: nowrap; max-width:192px; overflow:auto; text-align:left\">id<br />Int32</th><th style=\"text-wrap: nowrap; max-width:192px; overflow:auto; text-align:left\">product_name<br />Utf8</th><th style=\"text-wrap: nowrap; max-width:192px; overflow:auto; text-align:left\">product_category<br />Utf8</th></tr></thead>\n",
       "<tbody>\n",
       "<tr><td><div style=\"text-align:left; max-width:192px; max-height:64px; overflow:auto\">2</div></td><td><div style=\"text-align:left; max-width:192px; max-height:64px; overflow:auto\">Anker PowerCore 20100mAh</div></td><td><div style=\"text-align:left; max-width:192px; max-height:64px; overflow:auto\">PowerBank</div></td></tr>\n",
       "<tr><td><div style=\"text-align:left; max-width:192px; max-height:64px; overflow:auto\">3</div></td><td><div style=\"text-align:left; max-width:192px; max-height:64px; overflow:auto\">Mi 20000mAh Li-Polymer Power Bank 3i</div></td><td><div style=\"text-align:left; max-width:192px; max-height:64px; overflow:auto\">PowerBank</div></td></tr>\n",
       "<tr><td><div style=\"text-align:left; max-width:192px; max-height:64px; overflow:auto\">4</div></td><td><div style=\"text-align:left; max-width:192px; max-height:64px; overflow:auto\">URBN 10000 mAh Li-Polymer Ultra Compact Power Bank</div></td><td><div style=\"text-align:left; max-width:192px; max-height:64px; overflow:auto\">PowerBank</div></td></tr>\n",
       "<tr><td><div style=\"text-align:left; max-width:192px; max-height:64px; overflow:auto\">5</div></td><td><div style=\"text-align:left; max-width:192px; max-height:64px; overflow:auto\">Syska 10000 mAh Li-Polymer P1016B Power Pocket100 Power Bank</div></td><td><div style=\"text-align:left; max-width:192px; max-height:64px; overflow:auto\">PowerBank</div></td></tr>\n",
       "<tr><td><div style=\"text-align:left; max-width:192px; max-height:64px; overflow:auto\">6</div></td><td><div style=\"text-align:left; max-width:192px; max-height:64px; overflow:auto\">Ambrane 15000mAh Li-Polymer Powerbank with Type C and USB Ports</div></td><td><div style=\"text-align:left; max-width:192px; max-height:64px; overflow:auto\">PowerBank</div></td></tr>\n",
       "<tr><td><div style=\"text-align:left; max-width:192px; max-height:64px; overflow:auto\">7</div></td><td><div style=\"text-align:left; max-width:192px; max-height:64px; overflow:auto\">Croma 10000mAh Li-Polymer Power Bank with 12W Fast Charge</div></td><td><div style=\"text-align:left; max-width:192px; max-height:64px; overflow:auto\">PowerBank</div></td></tr>\n",
       "<tr><td><div style=\"text-align:left; max-width:192px; max-height:64px; overflow:auto\">8</div></td><td><div style=\"text-align:left; max-width:192px; max-height:64px; overflow:auto\">Philips 11000 mAh Power Bank</div></td><td><div style=\"text-align:left; max-width:192px; max-height:64px; overflow:auto\">PowerBank</div></td></tr>\n",
       "<tr><td><div style=\"text-align:left; max-width:192px; max-height:64px; overflow:auto\">9</div></td><td><div style=\"text-align:left; max-width:192px; max-height:64px; overflow:auto\">Realme 10000mAh Power Bank 2</div></td><td><div style=\"text-align:left; max-width:192px; max-height:64px; overflow:auto\">PowerBank</div></td></tr>\n",
       "<tr><td><div style=\"text-align:left; max-width:192px; max-height:64px; overflow:auto\">10</div></td><td><div style=\"text-align:left; max-width:192px; max-height:64px; overflow:auto\">OnePlus 10000 mAh Power Bank</div></td><td><div style=\"text-align:left; max-width:192px; max-height:64px; overflow:auto\">PowerBank</div></td></tr>\n",
       "<tr><td><div style=\"text-align:left; max-width:192px; max-height:64px; overflow:auto\">1</div></td><td><div style=\"text-align:left; max-width:192px; max-height:64px; overflow:auto\">Portronics Luxcell Wireless Mini 10K</div></td><td><div style=\"text-align:left; max-width:192px; max-height:64px; overflow:auto\">PowerBank</div></td></tr>\n",
       "</tbody>\n",
       "</table>\n",
       "<small>(Showing first 10 of 10 rows)</small>\n",
       "</div>"
      ],
      "text/plain": [
       "╭───────┬────────────────────────────────┬──────────────────╮\n",
       "│ id    ┆ product_name                   ┆ product_category │\n",
       "│ ---   ┆ ---                            ┆ ---              │\n",
       "│ Int32 ┆ Utf8                           ┆ Utf8             │\n",
       "╞═══════╪════════════════════════════════╪══════════════════╡\n",
       "│ 2     ┆ Anker PowerCore 20100mAh       ┆ PowerBank        │\n",
       "├╌╌╌╌╌╌╌┼╌╌╌╌╌╌╌╌╌╌╌╌╌╌╌╌╌╌╌╌╌╌╌╌╌╌╌╌╌╌╌╌┼╌╌╌╌╌╌╌╌╌╌╌╌╌╌╌╌╌╌┤\n",
       "│ 3     ┆ Mi 20000mAh Li-Polymer Power … ┆ PowerBank        │\n",
       "├╌╌╌╌╌╌╌┼╌╌╌╌╌╌╌╌╌╌╌╌╌╌╌╌╌╌╌╌╌╌╌╌╌╌╌╌╌╌╌╌┼╌╌╌╌╌╌╌╌╌╌╌╌╌╌╌╌╌╌┤\n",
       "│ 4     ┆ URBN 10000 mAh Li-Polymer Ult… ┆ PowerBank        │\n",
       "├╌╌╌╌╌╌╌┼╌╌╌╌╌╌╌╌╌╌╌╌╌╌╌╌╌╌╌╌╌╌╌╌╌╌╌╌╌╌╌╌┼╌╌╌╌╌╌╌╌╌╌╌╌╌╌╌╌╌╌┤\n",
       "│ 5     ┆ Syska 10000 mAh Li-Polymer P1… ┆ PowerBank        │\n",
       "├╌╌╌╌╌╌╌┼╌╌╌╌╌╌╌╌╌╌╌╌╌╌╌╌╌╌╌╌╌╌╌╌╌╌╌╌╌╌╌╌┼╌╌╌╌╌╌╌╌╌╌╌╌╌╌╌╌╌╌┤\n",
       "│ 6     ┆ Ambrane 15000mAh Li-Polymer P… ┆ PowerBank        │\n",
       "├╌╌╌╌╌╌╌┼╌╌╌╌╌╌╌╌╌╌╌╌╌╌╌╌╌╌╌╌╌╌╌╌╌╌╌╌╌╌╌╌┼╌╌╌╌╌╌╌╌╌╌╌╌╌╌╌╌╌╌┤\n",
       "│ 7     ┆ Croma 10000mAh Li-Polymer Pow… ┆ PowerBank        │\n",
       "├╌╌╌╌╌╌╌┼╌╌╌╌╌╌╌╌╌╌╌╌╌╌╌╌╌╌╌╌╌╌╌╌╌╌╌╌╌╌╌╌┼╌╌╌╌╌╌╌╌╌╌╌╌╌╌╌╌╌╌┤\n",
       "│ 8     ┆ Philips 11000 mAh Power Bank   ┆ PowerBank        │\n",
       "├╌╌╌╌╌╌╌┼╌╌╌╌╌╌╌╌╌╌╌╌╌╌╌╌╌╌╌╌╌╌╌╌╌╌╌╌╌╌╌╌┼╌╌╌╌╌╌╌╌╌╌╌╌╌╌╌╌╌╌┤\n",
       "│ 9     ┆ Realme 10000mAh Power Bank 2   ┆ PowerBank        │\n",
       "├╌╌╌╌╌╌╌┼╌╌╌╌╌╌╌╌╌╌╌╌╌╌╌╌╌╌╌╌╌╌╌╌╌╌╌╌╌╌╌╌┼╌╌╌╌╌╌╌╌╌╌╌╌╌╌╌╌╌╌┤\n",
       "│ 10    ┆ OnePlus 10000 mAh Power Bank   ┆ PowerBank        │\n",
       "├╌╌╌╌╌╌╌┼╌╌╌╌╌╌╌╌╌╌╌╌╌╌╌╌╌╌╌╌╌╌╌╌╌╌╌╌╌╌╌╌┼╌╌╌╌╌╌╌╌╌╌╌╌╌╌╌╌╌╌┤\n",
       "│ 1     ┆ Portronics Luxcell Wireless M… ┆ PowerBank        │\n",
       "╰───────┴────────────────────────────────┴──────────────────╯\n",
       "\n",
       "(Showing first 10 of 10 rows)"
      ]
     },
     "metadata": {},
     "output_type": "display_data"
    }
   ],
   "source": [
    "df = daft.read_deltalake(table=unity_table_ext.table_uri,io_config=io_config)\n",
    "df.show(20)"
   ]
  },
  {
   "cell_type": "code",
   "execution_count": 14,
   "metadata": {},
   "outputs": [
    {
     "name": "stdout",
     "output_type": "stream",
     "text": [
      "UnityCatalogTable(table_uri='abfss://metastore-catalog@sadataengci.dfs.core.windows.net/22ff7dd9-f632-412f-a44f-9d801c7819d5/tables/a2de3c34-7fa0-41c8-853a-4545c8bf1797', io_config=IOConfig:\n",
      "S3Config\n",
      "    region_name: None\n",
      "    endpoint_url: None\n",
      "    key_id: None\n",
      "    session_token: None,\n",
      "    access_key: None\n",
      "    credentials_provider: None\n",
      "    buffer_time: None\n",
      "    max_connections: 8,\n",
      "    retry_initial_backoff_ms: 1000,\n",
      "    connect_timeout_ms: 30000,\n",
      "    read_timeout_ms: 30000,\n",
      "    num_tries: 25,\n",
      "    retry_mode: Some(\"adaptive\"),\n",
      "    anonymous: false,\n",
      "    use_ssl: true,\n",
      "    verify_ssl: true,\n",
      "    check_hostname_ssl: true\n",
      "    requester_pays: false\n",
      "    force_virtual_addressing: false\n",
      "AzureConfig\n",
      "    storage_account: None\n",
      "    access_key: None\n",
      "    sas_token: Some(\"st=2024-10-26T16%3A12%3A42Z&sv=2020-02-10&ske=2024-10-26T18%3A12%3A42Z&sig=Ujp2xvUQHM%2B4KRF24Z7gKGTg%2BHt0dBR7G2rchKITmrs%3D&sktid=1975a593-15cd-4a2f-9794-655a0278a52e&se=2024-10-26T17%3A22%3A42Z&sdd=3&skoid=34f8ec02-83b0-4391-a09a-f33c070fbc62&spr=https&sks=b&skt=2024-10-26T16%3A12%3A42Z&sp=rl&skv=2024-05-04&sr=d\")\n",
      "    bearer_token: None\n",
      "    tenant_id: None\n",
      "    client_id: None\n",
      "    client_secret: None\n",
      "    use_fabric_endpoint: false\n",
      "    anonymous: false\n",
      "    endpoint_url: None\n",
      "    use_ssl: true\n",
      "GCSConfig\n",
      "    project_id: None\n",
      "    anonymous: false\n",
      "HTTPConfig\n",
      "    user_agent: daft/0.0.1)\n"
     ]
    }
   ],
   "source": [
    "print(unity_table_ext)"
   ]
  },
  {
   "cell_type": "code",
   "execution_count": 10,
   "metadata": {},
   "outputs": [],
   "source": [
    "# io_config = IOConfig(azure=unity_table_ext.io_config.azure.replace(storage_account=storage_account_parsed))\n",
    "# df_ext = daft.read_deltalake(unity_table_ext.table_uri,io_config=io_config)\n",
    "# df_ext.show()"
   ]
  },
  {
   "cell_type": "code",
   "execution_count": 42,
   "metadata": {},
   "outputs": [
    {
     "name": "stdout",
     "output_type": "stream",
     "text": [
      "sadataengci\n"
     ]
    }
   ],
   "source": [
    "# regex_match_az_storage_acc = re.search(r'@([^\\.]+)\\.', unity_table_ext.table_uri) # Gather storage account name from table URI\n",
    "# if regex_match_az_storage_acc:\n",
    "#     storage_account_parsed = regex_match_az_storage_acc.group(1)\n",
    "#     print(storage_account_parsed)\n",
    "# else:\n",
    "#     raise ValueError(\"{} does not appear to be a valid Azure Storage URI\".format(unity_table_ext.table_uri))"
   ]
  }
 ],
 "metadata": {
  "kernelspec": {
   "display_name": "Python 3",
   "language": "python",
   "name": "python3"
  },
  "language_info": {
   "codemirror_mode": {
    "name": "ipython",
    "version": 3
   },
   "file_extension": ".py",
   "mimetype": "text/x-python",
   "name": "python",
   "nbconvert_exporter": "python",
   "pygments_lexer": "ipython3",
   "version": "3.12.6"
  }
 },
 "nbformat": 4,
 "nbformat_minor": 2
}
