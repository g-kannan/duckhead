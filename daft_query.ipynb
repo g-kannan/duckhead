{
 "cells": [
  {
   "cell_type": "code",
   "execution_count": 1,
   "metadata": {},
   "outputs": [],
   "source": [
    "import daft\n",
    "import os\n",
    "import re\n",
    "from daft.unity_catalog import UnityCatalog\n",
    "from dotenv import load_dotenv"
   ]
  },
  {
   "cell_type": "code",
   "execution_count": 2,
   "metadata": {},
   "outputs": [],
   "source": [
    "from daft.io import IOConfig,AzureConfig"
   ]
  },
  {
   "cell_type": "code",
   "execution_count": 3,
   "metadata": {},
   "outputs": [
    {
     "data": {
      "text/plain": [
       "True"
      ]
     },
     "execution_count": 3,
     "metadata": {},
     "output_type": "execute_result"
    }
   ],
   "source": [
    "# Load environment variables from the .env file\n",
    "load_dotenv()"
   ]
  },
  {
   "cell_type": "code",
   "execution_count": 4,
   "metadata": {},
   "outputs": [],
   "source": [
    "token = os.getenv(\"token\")\n",
    "workspace = os.getenv(\"workspace_url\")"
   ]
  },
  {
   "cell_type": "code",
   "execution_count": 5,
   "metadata": {},
   "outputs": [],
   "source": [
    "# point Daft to your UC server\n",
    "unity = UnityCatalog(\n",
    "    endpoint=workspace,\n",
    "    token=token,\n",
    ")"
   ]
  },
  {
   "cell_type": "code",
   "execution_count": 6,
   "metadata": {},
   "outputs": [
    {
     "name": "stdout",
     "output_type": "stream",
     "text": [
      "['accuweather_daily_and_hourly_forecasts___u_s__postal_codes_sample', 'dev', 'facteus__inc__facteus_pulse___credit___debit_card_transaction_data', 'main', 'samples', 'system']\n"
     ]
    }
   ],
   "source": [
    "print(unity.list_catalogs())"
   ]
  },
  {
   "cell_type": "code",
   "execution_count": 19,
   "metadata": {},
   "outputs": [
    {
     "name": "stdout",
     "output_type": "stream",
     "text": [
      "['dev.information_schema', 'dev.silver']\n"
     ]
    }
   ],
   "source": [
    "print(unity.list_schemas(\"dev\"))"
   ]
  },
  {
   "cell_type": "code",
   "execution_count": 20,
   "metadata": {},
   "outputs": [
    {
     "name": "stdout",
     "output_type": "stream",
     "text": [
      "['dev.silver.products']\n"
     ]
    }
   ],
   "source": [
    "print(unity.list_tables(\"dev.silver\"))"
   ]
  },
  {
   "cell_type": "code",
   "execution_count": 21,
   "metadata": {},
   "outputs": [],
   "source": [
    "unity_table_ext = unity.load_table(\"dev.silver.products\")"
   ]
  },
  {
   "cell_type": "code",
   "execution_count": 7,
   "metadata": {},
   "outputs": [
    {
     "ename": "PermissionDeniedError",
     "evalue": "Error code: 403 - {'error_code': 'PERMISSION_DENIED', 'message': \"User does not have EXTERNAL USE SCHEMA on Schema 'system.compute'.\", 'details': [{'@type': 'type.googleapis.com/google.rpc.ErrorInfo', 'reason': 'PERMISSION_DENIED', 'domain': 'unity-catalog.databricks.com', 'metadata': {'msg': 'EXTERNAL USE SCHEMA', 'resourceType': 'Schema', 'resourceName': 'system.compute'}}, {'@type': 'type.googleapis.com/google.rpc.RequestInfo', 'request_id': '648bf46c-8fec-4037-afcb-5dea311172ce', 'serving_data': ''}]}",
     "output_type": "error",
     "traceback": [
      "\u001b[0;31m---------------------------------------------------------------------------\u001b[0m",
      "\u001b[0;31mPermissionDeniedError\u001b[0m                     Traceback (most recent call last)",
      "Cell \u001b[0;32mIn[7], line 1\u001b[0m\n\u001b[0;32m----> 1\u001b[0m system_compute_ext \u001b[38;5;241m=\u001b[39m \u001b[43munity\u001b[49m\u001b[38;5;241;43m.\u001b[39;49m\u001b[43mload_table\u001b[49m\u001b[43m(\u001b[49m\u001b[38;5;124;43m\"\u001b[39;49m\u001b[38;5;124;43msystem.compute.clusters\u001b[39;49m\u001b[38;5;124;43m\"\u001b[39;49m\u001b[43m)\u001b[49m\n",
      "File \u001b[0;32m/workspace/.pyenv_mirror/user/current/lib/python3.12/site-packages/daft/unity_catalog/unity_catalog.py:99\u001b[0m, in \u001b[0;36mUnityCatalog.load_table\u001b[0;34m(self, table_name)\u001b[0m\n\u001b[1;32m     96\u001b[0m storage_location \u001b[38;5;241m=\u001b[39m table_info\u001b[38;5;241m.\u001b[39mstorage_location\n\u001b[1;32m     98\u001b[0m \u001b[38;5;66;03m# Grab credentials from Unity catalog and place it into the Table\u001b[39;00m\n\u001b[0;32m---> 99\u001b[0m temp_table_credentials \u001b[38;5;241m=\u001b[39m \u001b[38;5;28;43mself\u001b[39;49m\u001b[38;5;241;43m.\u001b[39;49m\u001b[43m_client\u001b[49m\u001b[38;5;241;43m.\u001b[39;49m\u001b[43mtemporary_table_credentials\u001b[49m\u001b[38;5;241;43m.\u001b[39;49m\u001b[43mcreate\u001b[49m\u001b[43m(\u001b[49m\u001b[43moperation\u001b[49m\u001b[38;5;241;43m=\u001b[39;49m\u001b[38;5;124;43m\"\u001b[39;49m\u001b[38;5;124;43mREAD\u001b[39;49m\u001b[38;5;124;43m\"\u001b[39;49m\u001b[43m,\u001b[49m\u001b[43m \u001b[49m\u001b[43mtable_id\u001b[49m\u001b[38;5;241;43m=\u001b[39;49m\u001b[43mtable_id\u001b[49m\u001b[43m)\u001b[49m\n\u001b[1;32m    101\u001b[0m scheme \u001b[38;5;241m=\u001b[39m urlparse(storage_location)\u001b[38;5;241m.\u001b[39mscheme\n\u001b[1;32m    102\u001b[0m \u001b[38;5;28;01mif\u001b[39;00m scheme \u001b[38;5;241m==\u001b[39m \u001b[38;5;124m\"\u001b[39m\u001b[38;5;124ms3\u001b[39m\u001b[38;5;124m\"\u001b[39m \u001b[38;5;129;01mor\u001b[39;00m scheme \u001b[38;5;241m==\u001b[39m \u001b[38;5;124m\"\u001b[39m\u001b[38;5;124ms3a\u001b[39m\u001b[38;5;124m\"\u001b[39m:\n",
      "File \u001b[0;32m/workspace/.pyenv_mirror/user/current/lib/python3.12/site-packages/unitycatalog/resources/temporary_table_credentials.py:67\u001b[0m, in \u001b[0;36mTemporaryTableCredentialsResource.create\u001b[0;34m(self, operation, table_id, extra_headers, extra_query, extra_body, timeout)\u001b[0m\n\u001b[1;32m     40\u001b[0m \u001b[38;5;28;01mdef\u001b[39;00m \u001b[38;5;21mcreate\u001b[39m(\n\u001b[1;32m     41\u001b[0m     \u001b[38;5;28mself\u001b[39m,\n\u001b[1;32m     42\u001b[0m     \u001b[38;5;241m*\u001b[39m,\n\u001b[0;32m   (...)\u001b[0m\n\u001b[1;32m     50\u001b[0m     timeout: \u001b[38;5;28mfloat\u001b[39m \u001b[38;5;241m|\u001b[39m httpx\u001b[38;5;241m.\u001b[39mTimeout \u001b[38;5;241m|\u001b[39m \u001b[38;5;28;01mNone\u001b[39;00m \u001b[38;5;241m|\u001b[39m NotGiven \u001b[38;5;241m=\u001b[39m NOT_GIVEN,\n\u001b[1;32m     51\u001b[0m ) \u001b[38;5;241m-\u001b[39m\u001b[38;5;241m>\u001b[39m GenerateTemporaryTableCredentialResponse:\n\u001b[1;32m     52\u001b[0m \u001b[38;5;250m    \u001b[39m\u001b[38;5;124;03m\"\"\"\u001b[39;00m\n\u001b[1;32m     53\u001b[0m \u001b[38;5;124;03m    Generate temporary table credentials.\u001b[39;00m\n\u001b[1;32m     54\u001b[0m \n\u001b[0;32m   (...)\u001b[0m\n\u001b[1;32m     65\u001b[0m \u001b[38;5;124;03m      timeout: Override the client-level default timeout for this request, in seconds\u001b[39;00m\n\u001b[1;32m     66\u001b[0m \u001b[38;5;124;03m    \"\"\"\u001b[39;00m\n\u001b[0;32m---> 67\u001b[0m     \u001b[38;5;28;01mreturn\u001b[39;00m \u001b[38;5;28;43mself\u001b[39;49m\u001b[38;5;241;43m.\u001b[39;49m\u001b[43m_post\u001b[49m\u001b[43m(\u001b[49m\n\u001b[1;32m     68\u001b[0m \u001b[43m        \u001b[49m\u001b[38;5;124;43m\"\u001b[39;49m\u001b[38;5;124;43m/temporary-table-credentials\u001b[39;49m\u001b[38;5;124;43m\"\u001b[39;49m\u001b[43m,\u001b[49m\n\u001b[1;32m     69\u001b[0m \u001b[43m        \u001b[49m\u001b[43mbody\u001b[49m\u001b[38;5;241;43m=\u001b[39;49m\u001b[43mmaybe_transform\u001b[49m\u001b[43m(\u001b[49m\n\u001b[1;32m     70\u001b[0m \u001b[43m            \u001b[49m\u001b[43m{\u001b[49m\n\u001b[1;32m     71\u001b[0m \u001b[43m                \u001b[49m\u001b[38;5;124;43m\"\u001b[39;49m\u001b[38;5;124;43moperation\u001b[39;49m\u001b[38;5;124;43m\"\u001b[39;49m\u001b[43m:\u001b[49m\u001b[43m \u001b[49m\u001b[43moperation\u001b[49m\u001b[43m,\u001b[49m\n\u001b[1;32m     72\u001b[0m \u001b[43m                \u001b[49m\u001b[38;5;124;43m\"\u001b[39;49m\u001b[38;5;124;43mtable_id\u001b[39;49m\u001b[38;5;124;43m\"\u001b[39;49m\u001b[43m:\u001b[49m\u001b[43m \u001b[49m\u001b[43mtable_id\u001b[49m\u001b[43m,\u001b[49m\n\u001b[1;32m     73\u001b[0m \u001b[43m            \u001b[49m\u001b[43m}\u001b[49m\u001b[43m,\u001b[49m\n\u001b[1;32m     74\u001b[0m \u001b[43m            \u001b[49m\u001b[43mtemporary_table_credential_create_params\u001b[49m\u001b[38;5;241;43m.\u001b[39;49m\u001b[43mTemporaryTableCredentialCreateParams\u001b[49m\u001b[43m,\u001b[49m\n\u001b[1;32m     75\u001b[0m \u001b[43m        \u001b[49m\u001b[43m)\u001b[49m\u001b[43m,\u001b[49m\n\u001b[1;32m     76\u001b[0m \u001b[43m        \u001b[49m\u001b[43moptions\u001b[49m\u001b[38;5;241;43m=\u001b[39;49m\u001b[43mmake_request_options\u001b[49m\u001b[43m(\u001b[49m\n\u001b[1;32m     77\u001b[0m \u001b[43m            \u001b[49m\u001b[43mextra_headers\u001b[49m\u001b[38;5;241;43m=\u001b[39;49m\u001b[43mextra_headers\u001b[49m\u001b[43m,\u001b[49m\u001b[43m \u001b[49m\u001b[43mextra_query\u001b[49m\u001b[38;5;241;43m=\u001b[39;49m\u001b[43mextra_query\u001b[49m\u001b[43m,\u001b[49m\u001b[43m \u001b[49m\u001b[43mextra_body\u001b[49m\u001b[38;5;241;43m=\u001b[39;49m\u001b[43mextra_body\u001b[49m\u001b[43m,\u001b[49m\u001b[43m \u001b[49m\u001b[43mtimeout\u001b[49m\u001b[38;5;241;43m=\u001b[39;49m\u001b[43mtimeout\u001b[49m\n\u001b[1;32m     78\u001b[0m \u001b[43m        \u001b[49m\u001b[43m)\u001b[49m\u001b[43m,\u001b[49m\n\u001b[1;32m     79\u001b[0m \u001b[43m        \u001b[49m\u001b[43mcast_to\u001b[49m\u001b[38;5;241;43m=\u001b[39;49m\u001b[43mGenerateTemporaryTableCredentialResponse\u001b[49m\u001b[43m,\u001b[49m\n\u001b[1;32m     80\u001b[0m \u001b[43m    \u001b[49m\u001b[43m)\u001b[49m\n",
      "File \u001b[0;32m/workspace/.pyenv_mirror/user/current/lib/python3.12/site-packages/unitycatalog/_base_client.py:1225\u001b[0m, in \u001b[0;36mSyncAPIClient.post\u001b[0;34m(self, path, cast_to, body, options, files, stream, stream_cls)\u001b[0m\n\u001b[1;32m   1211\u001b[0m \u001b[38;5;28;01mdef\u001b[39;00m \u001b[38;5;21mpost\u001b[39m(\n\u001b[1;32m   1212\u001b[0m     \u001b[38;5;28mself\u001b[39m,\n\u001b[1;32m   1213\u001b[0m     path: \u001b[38;5;28mstr\u001b[39m,\n\u001b[0;32m   (...)\u001b[0m\n\u001b[1;32m   1220\u001b[0m     stream_cls: \u001b[38;5;28mtype\u001b[39m[_StreamT] \u001b[38;5;241m|\u001b[39m \u001b[38;5;28;01mNone\u001b[39;00m \u001b[38;5;241m=\u001b[39m \u001b[38;5;28;01mNone\u001b[39;00m,\n\u001b[1;32m   1221\u001b[0m ) \u001b[38;5;241m-\u001b[39m\u001b[38;5;241m>\u001b[39m ResponseT \u001b[38;5;241m|\u001b[39m _StreamT:\n\u001b[1;32m   1222\u001b[0m     opts \u001b[38;5;241m=\u001b[39m FinalRequestOptions\u001b[38;5;241m.\u001b[39mconstruct(\n\u001b[1;32m   1223\u001b[0m         method\u001b[38;5;241m=\u001b[39m\u001b[38;5;124m\"\u001b[39m\u001b[38;5;124mpost\u001b[39m\u001b[38;5;124m\"\u001b[39m, url\u001b[38;5;241m=\u001b[39mpath, json_data\u001b[38;5;241m=\u001b[39mbody, files\u001b[38;5;241m=\u001b[39mto_httpx_files(files), \u001b[38;5;241m*\u001b[39m\u001b[38;5;241m*\u001b[39moptions\n\u001b[1;32m   1224\u001b[0m     )\n\u001b[0;32m-> 1225\u001b[0m     \u001b[38;5;28;01mreturn\u001b[39;00m cast(ResponseT, \u001b[38;5;28;43mself\u001b[39;49m\u001b[38;5;241;43m.\u001b[39;49m\u001b[43mrequest\u001b[49m\u001b[43m(\u001b[49m\u001b[43mcast_to\u001b[49m\u001b[43m,\u001b[49m\u001b[43m \u001b[49m\u001b[43mopts\u001b[49m\u001b[43m,\u001b[49m\u001b[43m \u001b[49m\u001b[43mstream\u001b[49m\u001b[38;5;241;43m=\u001b[39;49m\u001b[43mstream\u001b[49m\u001b[43m,\u001b[49m\u001b[43m \u001b[49m\u001b[43mstream_cls\u001b[49m\u001b[38;5;241;43m=\u001b[39;49m\u001b[43mstream_cls\u001b[49m\u001b[43m)\u001b[49m)\n",
      "File \u001b[0;32m/workspace/.pyenv_mirror/user/current/lib/python3.12/site-packages/unitycatalog/_base_client.py:920\u001b[0m, in \u001b[0;36mSyncAPIClient.request\u001b[0;34m(self, cast_to, options, remaining_retries, stream, stream_cls)\u001b[0m\n\u001b[1;32m    911\u001b[0m \u001b[38;5;28;01mdef\u001b[39;00m \u001b[38;5;21mrequest\u001b[39m(\n\u001b[1;32m    912\u001b[0m     \u001b[38;5;28mself\u001b[39m,\n\u001b[1;32m    913\u001b[0m     cast_to: Type[ResponseT],\n\u001b[0;32m   (...)\u001b[0m\n\u001b[1;32m    918\u001b[0m     stream_cls: \u001b[38;5;28mtype\u001b[39m[_StreamT] \u001b[38;5;241m|\u001b[39m \u001b[38;5;28;01mNone\u001b[39;00m \u001b[38;5;241m=\u001b[39m \u001b[38;5;28;01mNone\u001b[39;00m,\n\u001b[1;32m    919\u001b[0m ) \u001b[38;5;241m-\u001b[39m\u001b[38;5;241m>\u001b[39m ResponseT \u001b[38;5;241m|\u001b[39m _StreamT:\n\u001b[0;32m--> 920\u001b[0m     \u001b[38;5;28;01mreturn\u001b[39;00m \u001b[38;5;28;43mself\u001b[39;49m\u001b[38;5;241;43m.\u001b[39;49m\u001b[43m_request\u001b[49m\u001b[43m(\u001b[49m\n\u001b[1;32m    921\u001b[0m \u001b[43m        \u001b[49m\u001b[43mcast_to\u001b[49m\u001b[38;5;241;43m=\u001b[39;49m\u001b[43mcast_to\u001b[49m\u001b[43m,\u001b[49m\n\u001b[1;32m    922\u001b[0m \u001b[43m        \u001b[49m\u001b[43moptions\u001b[49m\u001b[38;5;241;43m=\u001b[39;49m\u001b[43moptions\u001b[49m\u001b[43m,\u001b[49m\n\u001b[1;32m    923\u001b[0m \u001b[43m        \u001b[49m\u001b[43mstream\u001b[49m\u001b[38;5;241;43m=\u001b[39;49m\u001b[43mstream\u001b[49m\u001b[43m,\u001b[49m\n\u001b[1;32m    924\u001b[0m \u001b[43m        \u001b[49m\u001b[43mstream_cls\u001b[49m\u001b[38;5;241;43m=\u001b[39;49m\u001b[43mstream_cls\u001b[49m\u001b[43m,\u001b[49m\n\u001b[1;32m    925\u001b[0m \u001b[43m        \u001b[49m\u001b[43mremaining_retries\u001b[49m\u001b[38;5;241;43m=\u001b[39;49m\u001b[43mremaining_retries\u001b[49m\u001b[43m,\u001b[49m\n\u001b[1;32m    926\u001b[0m \u001b[43m    \u001b[49m\u001b[43m)\u001b[49m\n",
      "File \u001b[0;32m/workspace/.pyenv_mirror/user/current/lib/python3.12/site-packages/unitycatalog/_base_client.py:1018\u001b[0m, in \u001b[0;36mSyncAPIClient._request\u001b[0;34m(self, cast_to, options, remaining_retries, stream, stream_cls)\u001b[0m\n\u001b[1;32m   1015\u001b[0m         err\u001b[38;5;241m.\u001b[39mresponse\u001b[38;5;241m.\u001b[39mread()\n\u001b[1;32m   1017\u001b[0m     log\u001b[38;5;241m.\u001b[39mdebug(\u001b[38;5;124m\"\u001b[39m\u001b[38;5;124mRe-raising status error\u001b[39m\u001b[38;5;124m\"\u001b[39m)\n\u001b[0;32m-> 1018\u001b[0m     \u001b[38;5;28;01mraise\u001b[39;00m \u001b[38;5;28mself\u001b[39m\u001b[38;5;241m.\u001b[39m_make_status_error_from_response(err\u001b[38;5;241m.\u001b[39mresponse) \u001b[38;5;28;01mfrom\u001b[39;00m \u001b[38;5;28;01mNone\u001b[39;00m\n\u001b[1;32m   1020\u001b[0m \u001b[38;5;28;01mreturn\u001b[39;00m \u001b[38;5;28mself\u001b[39m\u001b[38;5;241m.\u001b[39m_process_response(\n\u001b[1;32m   1021\u001b[0m     cast_to\u001b[38;5;241m=\u001b[39mcast_to,\n\u001b[1;32m   1022\u001b[0m     options\u001b[38;5;241m=\u001b[39moptions,\n\u001b[0;32m   (...)\u001b[0m\n\u001b[1;32m   1025\u001b[0m     stream_cls\u001b[38;5;241m=\u001b[39mstream_cls,\n\u001b[1;32m   1026\u001b[0m )\n",
      "\u001b[0;31mPermissionDeniedError\u001b[0m: Error code: 403 - {'error_code': 'PERMISSION_DENIED', 'message': \"User does not have EXTERNAL USE SCHEMA on Schema 'system.compute'.\", 'details': [{'@type': 'type.googleapis.com/google.rpc.ErrorInfo', 'reason': 'PERMISSION_DENIED', 'domain': 'unity-catalog.databricks.com', 'metadata': {'msg': 'EXTERNAL USE SCHEMA', 'resourceType': 'Schema', 'resourceName': 'system.compute'}}, {'@type': 'type.googleapis.com/google.rpc.RequestInfo', 'request_id': '648bf46c-8fec-4037-afcb-5dea311172ce', 'serving_data': ''}]}"
     ]
    }
   ],
   "source": [
    "system_compute_ext = unity.load_table(\"system.compute.clusters\")"
   ]
  },
  {
   "cell_type": "code",
   "execution_count": 22,
   "metadata": {},
   "outputs": [
    {
     "name": "stdout",
     "output_type": "stream",
     "text": [
      "abfss://metastore-catalog@sadataengci.dfs.core.windows.net/22ff7dd9-f632-412f-a44f-9d801c7819d5/tables/a2de3c34-7fa0-41c8-853a-4545c8bf1797\n"
     ]
    }
   ],
   "source": [
    "print(unity_table_ext.table_uri)"
   ]
  },
  {
   "cell_type": "code",
   "execution_count": null,
   "metadata": {},
   "outputs": [],
   "source": [
    "# io_config = IOConfig(azure=AzureConfig(storage_account=\"sadataengci\",access_key=access_key)) ## Using access_key\n",
    "# io_config = IOConfig(azure=unity_table_ext.io_config.azure.replace(storage_account='sadataengci'))\n",
    "# io_config = IOConfig(azure=AzureConfig(storage_account=\"sadataengci\"))"
   ]
  },
  {
   "cell_type": "code",
   "execution_count": 24,
   "metadata": {},
   "outputs": [
    {
     "data": {
      "text/html": [
       "<div>\n",
       "<table class=\"dataframe\">\n",
       "<thead><tr><th style=\"text-wrap: nowrap; max-width:192px; overflow:auto; text-align:left\">id<br />Int32</th><th style=\"text-wrap: nowrap; max-width:192px; overflow:auto; text-align:left\">product_name<br />Utf8</th><th style=\"text-wrap: nowrap; max-width:192px; overflow:auto; text-align:left\">product_category<br />Utf8</th></tr></thead>\n",
       "<tbody>\n",
       "<tr><td><div style=\"text-align:left; max-width:192px; max-height:64px; overflow:auto\">2</div></td><td><div style=\"text-align:left; max-width:192px; max-height:64px; overflow:auto\">Anker PowerCore 20100mAh</div></td><td><div style=\"text-align:left; max-width:192px; max-height:64px; overflow:auto\">PowerBank</div></td></tr>\n",
       "<tr><td><div style=\"text-align:left; max-width:192px; max-height:64px; overflow:auto\">3</div></td><td><div style=\"text-align:left; max-width:192px; max-height:64px; overflow:auto\">Mi 20000mAh Li-Polymer Power Bank 3i</div></td><td><div style=\"text-align:left; max-width:192px; max-height:64px; overflow:auto\">PowerBank</div></td></tr>\n",
       "<tr><td><div style=\"text-align:left; max-width:192px; max-height:64px; overflow:auto\">4</div></td><td><div style=\"text-align:left; max-width:192px; max-height:64px; overflow:auto\">URBN 10000 mAh Li-Polymer Ultra Compact Power Bank</div></td><td><div style=\"text-align:left; max-width:192px; max-height:64px; overflow:auto\">PowerBank</div></td></tr>\n",
       "<tr><td><div style=\"text-align:left; max-width:192px; max-height:64px; overflow:auto\">5</div></td><td><div style=\"text-align:left; max-width:192px; max-height:64px; overflow:auto\">Syska 10000 mAh Li-Polymer P1016B Power Pocket100 Power Bank</div></td><td><div style=\"text-align:left; max-width:192px; max-height:64px; overflow:auto\">PowerBank</div></td></tr>\n",
       "<tr><td><div style=\"text-align:left; max-width:192px; max-height:64px; overflow:auto\">6</div></td><td><div style=\"text-align:left; max-width:192px; max-height:64px; overflow:auto\">Ambrane 15000mAh Li-Polymer Powerbank with Type C and USB Ports</div></td><td><div style=\"text-align:left; max-width:192px; max-height:64px; overflow:auto\">PowerBank</div></td></tr>\n",
       "<tr><td><div style=\"text-align:left; max-width:192px; max-height:64px; overflow:auto\">7</div></td><td><div style=\"text-align:left; max-width:192px; max-height:64px; overflow:auto\">Croma 10000mAh Li-Polymer Power Bank with 12W Fast Charge</div></td><td><div style=\"text-align:left; max-width:192px; max-height:64px; overflow:auto\">PowerBank</div></td></tr>\n",
       "<tr><td><div style=\"text-align:left; max-width:192px; max-height:64px; overflow:auto\">8</div></td><td><div style=\"text-align:left; max-width:192px; max-height:64px; overflow:auto\">Philips 11000 mAh Power Bank</div></td><td><div style=\"text-align:left; max-width:192px; max-height:64px; overflow:auto\">PowerBank</div></td></tr>\n",
       "<tr><td><div style=\"text-align:left; max-width:192px; max-height:64px; overflow:auto\">9</div></td><td><div style=\"text-align:left; max-width:192px; max-height:64px; overflow:auto\">Realme 10000mAh Power Bank 2</div></td><td><div style=\"text-align:left; max-width:192px; max-height:64px; overflow:auto\">PowerBank</div></td></tr>\n",
       "<tr><td><div style=\"text-align:left; max-width:192px; max-height:64px; overflow:auto\">10</div></td><td><div style=\"text-align:left; max-width:192px; max-height:64px; overflow:auto\">OnePlus 10000 mAh Power Bank</div></td><td><div style=\"text-align:left; max-width:192px; max-height:64px; overflow:auto\">PowerBank</div></td></tr>\n",
       "<tr><td><div style=\"text-align:left; max-width:192px; max-height:64px; overflow:auto\">1</div></td><td><div style=\"text-align:left; max-width:192px; max-height:64px; overflow:auto\">Portronics Luxcell Wireless Mini 10K</div></td><td><div style=\"text-align:left; max-width:192px; max-height:64px; overflow:auto\">PowerBank</div></td></tr>\n",
       "</tbody>\n",
       "</table>\n",
       "<small>(Showing first 10 of 10 rows)</small>\n",
       "</div>"
      ],
      "text/plain": [
       "╭───────┬────────────────────────────────┬──────────────────╮\n",
       "│ id    ┆ product_name                   ┆ product_category │\n",
       "│ ---   ┆ ---                            ┆ ---              │\n",
       "│ Int32 ┆ Utf8                           ┆ Utf8             │\n",
       "╞═══════╪════════════════════════════════╪══════════════════╡\n",
       "│ 2     ┆ Anker PowerCore 20100mAh       ┆ PowerBank        │\n",
       "├╌╌╌╌╌╌╌┼╌╌╌╌╌╌╌╌╌╌╌╌╌╌╌╌╌╌╌╌╌╌╌╌╌╌╌╌╌╌╌╌┼╌╌╌╌╌╌╌╌╌╌╌╌╌╌╌╌╌╌┤\n",
       "│ 3     ┆ Mi 20000mAh Li-Polymer Power … ┆ PowerBank        │\n",
       "├╌╌╌╌╌╌╌┼╌╌╌╌╌╌╌╌╌╌╌╌╌╌╌╌╌╌╌╌╌╌╌╌╌╌╌╌╌╌╌╌┼╌╌╌╌╌╌╌╌╌╌╌╌╌╌╌╌╌╌┤\n",
       "│ 4     ┆ URBN 10000 mAh Li-Polymer Ult… ┆ PowerBank        │\n",
       "├╌╌╌╌╌╌╌┼╌╌╌╌╌╌╌╌╌╌╌╌╌╌╌╌╌╌╌╌╌╌╌╌╌╌╌╌╌╌╌╌┼╌╌╌╌╌╌╌╌╌╌╌╌╌╌╌╌╌╌┤\n",
       "│ 5     ┆ Syska 10000 mAh Li-Polymer P1… ┆ PowerBank        │\n",
       "├╌╌╌╌╌╌╌┼╌╌╌╌╌╌╌╌╌╌╌╌╌╌╌╌╌╌╌╌╌╌╌╌╌╌╌╌╌╌╌╌┼╌╌╌╌╌╌╌╌╌╌╌╌╌╌╌╌╌╌┤\n",
       "│ 6     ┆ Ambrane 15000mAh Li-Polymer P… ┆ PowerBank        │\n",
       "├╌╌╌╌╌╌╌┼╌╌╌╌╌╌╌╌╌╌╌╌╌╌╌╌╌╌╌╌╌╌╌╌╌╌╌╌╌╌╌╌┼╌╌╌╌╌╌╌╌╌╌╌╌╌╌╌╌╌╌┤\n",
       "│ 7     ┆ Croma 10000mAh Li-Polymer Pow… ┆ PowerBank        │\n",
       "├╌╌╌╌╌╌╌┼╌╌╌╌╌╌╌╌╌╌╌╌╌╌╌╌╌╌╌╌╌╌╌╌╌╌╌╌╌╌╌╌┼╌╌╌╌╌╌╌╌╌╌╌╌╌╌╌╌╌╌┤\n",
       "│ 8     ┆ Philips 11000 mAh Power Bank   ┆ PowerBank        │\n",
       "├╌╌╌╌╌╌╌┼╌╌╌╌╌╌╌╌╌╌╌╌╌╌╌╌╌╌╌╌╌╌╌╌╌╌╌╌╌╌╌╌┼╌╌╌╌╌╌╌╌╌╌╌╌╌╌╌╌╌╌┤\n",
       "│ 9     ┆ Realme 10000mAh Power Bank 2   ┆ PowerBank        │\n",
       "├╌╌╌╌╌╌╌┼╌╌╌╌╌╌╌╌╌╌╌╌╌╌╌╌╌╌╌╌╌╌╌╌╌╌╌╌╌╌╌╌┼╌╌╌╌╌╌╌╌╌╌╌╌╌╌╌╌╌╌┤\n",
       "│ 10    ┆ OnePlus 10000 mAh Power Bank   ┆ PowerBank        │\n",
       "├╌╌╌╌╌╌╌┼╌╌╌╌╌╌╌╌╌╌╌╌╌╌╌╌╌╌╌╌╌╌╌╌╌╌╌╌╌╌╌╌┼╌╌╌╌╌╌╌╌╌╌╌╌╌╌╌╌╌╌┤\n",
       "│ 1     ┆ Portronics Luxcell Wireless M… ┆ PowerBank        │\n",
       "╰───────┴────────────────────────────────┴──────────────────╯\n",
       "\n",
       "(Showing first 10 of 10 rows)"
      ]
     },
     "metadata": {},
     "output_type": "display_data"
    }
   ],
   "source": [
    "df = daft.read_deltalake(table=unity_table_ext)\n",
    "df.show(20)"
   ]
  },
  {
   "cell_type": "code",
   "execution_count": 30,
   "metadata": {},
   "outputs": [
    {
     "name": "stdout",
     "output_type": "stream",
     "text": [
      "UnityCatalogTable(table_uri='abfss://metastore-catalog@sadataengci.dfs.core.windows.net/22ff7dd9-f632-412f-a44f-9d801c7819d5/tables/a2de3c34-7fa0-41c8-853a-4545c8bf1797', io_config=IOConfig:\n",
      "S3Config\n",
      "    region_name: None\n",
      "    endpoint_url: None\n",
      "    key_id: None\n",
      "    session_token: None,\n",
      "    access_key: None\n",
      "    credentials_provider: None\n",
      "    buffer_time: None\n",
      "    max_connections: 8,\n",
      "    retry_initial_backoff_ms: 1000,\n",
      "    connect_timeout_ms: 30000,\n",
      "    read_timeout_ms: 30000,\n",
      "    num_tries: 25,\n",
      "    retry_mode: Some(\"adaptive\"),\n",
      "    anonymous: false,\n",
      "    use_ssl: true,\n",
      "    verify_ssl: true,\n",
      "    check_hostname_ssl: true\n",
      "    requester_pays: false\n",
      "    force_virtual_addressing: false\n",
      "AzureConfig\n",
      "    storage_account: None\n",
      "    access_key: None\n",
      "    sas_token: Some(\"st=2024-11-16T02%3A56%3A49Z&sv=2020-02-10&ske=2024-11-16T04%3A56%3A49Z&sig=W7e%2B2AZVzsOXu0RPZCKkByo5lvOPcIR%2BwB3TBWnIXNM%3D&sktid=1975a593-15cd-4a2f-9794-655a0278a52e&se=2024-11-16T04%3A20%3A37Z&sdd=3&skoid=34f8ec02-83b0-4391-a09a-f33c070fbc62&spr=https&sks=b&skt=2024-11-16T02%3A56%3A49Z&sp=rl&skv=2024-05-04&sr=d\")\n",
      "    bearer_token: None\n",
      "    tenant_id: None\n",
      "    client_id: None\n",
      "    client_secret: None\n",
      "    use_fabric_endpoint: false\n",
      "    anonymous: false\n",
      "    endpoint_url: None\n",
      "    use_ssl: true\n",
      "GCSConfig\n",
      "    project_id: None\n",
      "    anonymous: false\n",
      "HTTPConfig\n",
      "    user_agent: daft/0.0.1)\n"
     ]
    }
   ],
   "source": [
    "print(unity_table_ext)"
   ]
  },
  {
   "cell_type": "code",
   "execution_count": null,
   "metadata": {},
   "outputs": [],
   "source": [
    "# io_config = IOConfig(azure=unity_table_ext.io_config.azure.replace(storage_account=storage_account_parsed))\n",
    "# df_ext = daft.read_deltalake(unity_table_ext.table_uri,io_config=io_config)\n",
    "# df_ext.show()"
   ]
  },
  {
   "cell_type": "code",
   "execution_count": null,
   "metadata": {},
   "outputs": [],
   "source": [
    "# regex_match_az_storage_acc = re.search(r'@([^\\.]+)\\.', unity_table_ext.table_uri) # Gather storage account name from table URI\n",
    "# if regex_match_az_storage_acc:\n",
    "#     storage_account_parsed = regex_match_az_storage_acc.group(1)\n",
    "#     print(storage_account_parsed)\n",
    "# else:\n",
    "#     raise ValueError(\"{} does not appear to be a valid Azure Storage URI\".format(unity_table_ext.table_uri))"
   ]
  }
 ],
 "metadata": {
  "kernelspec": {
   "display_name": "Python 3",
   "language": "python",
   "name": "python3"
  },
  "language_info": {
   "codemirror_mode": {
    "name": "ipython",
    "version": 3
   },
   "file_extension": ".py",
   "mimetype": "text/x-python",
   "name": "python",
   "nbconvert_exporter": "python",
   "pygments_lexer": "ipython3",
   "version": "3.12.6"
  }
 },
 "nbformat": 4,
 "nbformat_minor": 2
}
